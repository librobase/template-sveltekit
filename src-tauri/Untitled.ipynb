{
 "cells": [
  {
   "cell_type": "code",
   "execution_count": 1,
   "id": "6fa94109-5409-48c0-af63-66818bb9c4f6",
   "metadata": {},
   "outputs": [
    {
     "name": "stdout",
     "output_type": "stream",
     "text": [
      "Python 3.9.18\n"
     ]
    }
   ],
   "source": [
    "! /Users/mhp/github/librobase/librobase/src-tauri/target/debug/prefix/bin/python --version"
   ]
  },
  {
   "cell_type": "code",
   "execution_count": 2,
   "id": "f9072a94-5887-4fce-a4e4-a4757aa1ad60",
   "metadata": {},
   "outputs": [
    {
     "name": "stdout",
     "output_type": "stream",
     "text": [
      "Package                       Version\n",
      "----------------------------- ------------\n",
      "anyio                         4.0.0\n",
      "appnope                       0.1.3\n",
      "argon2-cffi                   23.1.0\n",
      "argon2-cffi-bindings          21.2.0\n",
      "arrow                         1.3.0\n",
      "asttokens                     2.4.1\n",
      "async-lru                     2.0.4\n",
      "attrs                         23.1.0\n",
      "Babel                         2.13.1\n",
      "backcall                      0.2.0\n",
      "backports.functools-lru-cache 1.6.5\n",
      "beautifulsoup4                4.12.2\n",
      "bleach                        6.1.0\n",
      "Brotli                        1.1.0\n",
      "cached-property               1.5.2\n",
      "certifi                       2023.7.22\n",
      "cffi                          1.16.0\n",
      "charset-normalizer            3.3.1\n",
      "comm                          0.1.4\n",
      "debugpy                       1.8.0\n",
      "decorator                     5.1.1\n",
      "defusedxml                    0.7.1\n",
      "entrypoints                   0.4\n",
      "exceptiongroup                1.1.3\n",
      "executing                     1.2.0\n",
      "fastjsonschema                2.18.1\n",
      "fqdn                          1.5.1\n",
      "idna                          3.4\n",
      "importlib-metadata            6.8.0\n",
      "importlib-resources           6.1.0\n",
      "ipykernel                     6.26.0\n",
      "ipython                       8.16.1\n",
      "isoduration                   20.11.0\n",
      "jedi                          0.19.1\n",
      "Jinja2                        3.1.2\n",
      "json5                         0.9.14\n",
      "jsonpointer                   2.4\n",
      "jsonschema                    4.19.1\n",
      "jsonschema-specifications     2023.7.1\n",
      "jupyter_client                8.5.0\n",
      "jupyter_core                  5.4.0\n",
      "jupyter-events                0.8.0\n",
      "jupyter-lsp                   2.2.0\n",
      "jupyter_server                2.9.1\n",
      "jupyter_server_terminals      0.4.4\n",
      "jupyterlab                    4.0.7\n",
      "jupyterlab-pygments           0.2.2\n",
      "jupyterlab_server             2.25.0\n",
      "MarkupSafe                    2.1.3\n",
      "matplotlib-inline             0.1.6\n",
      "mistune                       3.0.1\n",
      "nbclient                      0.8.0\n",
      "nbconvert                     7.9.2\n",
      "nbformat                      5.9.2\n",
      "nest-asyncio                  1.5.8\n",
      "notebook_shim                 0.2.3\n",
      "numpy                         1.26.0\n",
      "overrides                     7.4.0\n",
      "packaging                     23.2\n",
      "pandas                        2.1.2\n",
      "pandocfilters                 1.5.0\n",
      "parso                         0.8.3\n",
      "pexpect                       4.8.0\n",
      "pickleshare                   0.7.5\n",
      "pip                           23.3.1\n",
      "pkgutil_resolve_name          1.3.10\n",
      "platformdirs                  3.11.0\n",
      "prometheus-client             0.17.1\n",
      "prompt-toolkit                3.0.39\n",
      "psutil                        5.9.5\n",
      "ptyprocess                    0.7.0\n",
      "pure-eval                     0.2.2\n",
      "pycparser                     2.21\n",
      "Pygments                      2.16.1\n",
      "pyobjc-core                   10.0\n",
      "pyobjc-framework-Cocoa        10.0\n",
      "PySocks                       1.7.1\n",
      "python-dateutil               2.8.2\n",
      "python-json-logger            2.0.7\n",
      "pytz                          2023.3.post1\n",
      "PyYAML                        6.0.1\n",
      "pyzmq                         25.1.1\n",
      "referencing                   0.30.2\n",
      "requests                      2.31.0\n",
      "rfc3339-validator             0.1.4\n",
      "rfc3986-validator             0.1.1\n",
      "rpds-py                       0.10.6\n",
      "Send2Trash                    1.8.2\n",
      "setuptools                    68.2.2\n",
      "six                           1.16.0\n",
      "sniffio                       1.3.0\n",
      "soupsieve                     2.5\n",
      "stack-data                    0.6.2\n",
      "terminado                     0.17.1\n",
      "tinycss2                      1.2.1\n",
      "tomli                         2.0.1\n",
      "tornado                       6.3.3\n",
      "traitlets                     5.12.0\n",
      "types-python-dateutil         2.8.19.14\n",
      "typing_extensions             4.8.0\n",
      "typing-utils                  0.1.0\n",
      "tzdata                        2023.3\n",
      "uri-template                  1.3.0\n",
      "urllib3                       2.0.7\n",
      "wcwidth                       0.2.8\n",
      "webcolors                     1.13\n",
      "webencodings                  0.5.1\n",
      "websocket-client              1.6.4\n",
      "wheel                         0.41.2\n",
      "zipp                          3.17.0\n"
     ]
    }
   ],
   "source": [
    "! /Users/mhp/github/librobase/librobase/src-tauri/target/debug/prefix/bin/python -m pip list"
   ]
  },
  {
   "cell_type": "code",
   "execution_count": 3,
   "id": "442138b1-da72-41a9-b13e-f07bda25936b",
   "metadata": {},
   "outputs": [],
   "source": [
    "import pandas as pd"
   ]
  },
  {
   "cell_type": "code",
   "execution_count": 4,
   "id": "34d929c3-4e9c-4a88-a0e1-6af514e1e959",
   "metadata": {},
   "outputs": [
    {
     "data": {
      "text/plain": [
       "'2.1.2'"
      ]
     },
     "execution_count": 4,
     "metadata": {},
     "output_type": "execute_result"
    }
   ],
   "source": [
    "pd.__version__"
   ]
  },
  {
   "cell_type": "code",
   "execution_count": null,
   "id": "7e463c03-b752-42fe-b58e-80e450e9e28e",
   "metadata": {},
   "outputs": [],
   "source": []
  }
 ],
 "metadata": {
  "kernelspec": {
   "display_name": "Python 3 (ipykernel)",
   "language": "python",
   "name": "python3"
  },
  "language_info": {
   "codemirror_mode": {
    "name": "ipython",
    "version": 3
   },
   "file_extension": ".py",
   "mimetype": "text/x-python",
   "name": "python",
   "nbconvert_exporter": "python",
   "pygments_lexer": "ipython3",
   "version": "3.9.18"
  }
 },
 "nbformat": 4,
 "nbformat_minor": 5
}
