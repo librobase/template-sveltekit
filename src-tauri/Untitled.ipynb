{
 "cells": [
  {
   "cell_type": "code",
   "execution_count": 1,
   "id": "c9befd44-ca3e-4c49-b4c5-51c27943c681",
   "metadata": {},
   "outputs": [],
   "source": [
    "import sys"
   ]
  },
  {
   "cell_type": "code",
   "execution_count": null,
   "id": "8693bca0-aa92-43a2-b143-ee05eaedcc91",
   "metadata": {},
   "outputs": [],
   "source": [
    "with open('/Users/mhp/github/file.txt', 'r') as f:\n",
    "    contents = f.read()"
   ]
  },
  {
   "cell_type": "code",
   "execution_count": 19,
   "id": "05300767-8d3f-48a3-96bb-066ea06085e9",
   "metadata": {},
   "outputs": [
    {
     "data": {
      "text/plain": [
       "49657"
      ]
     },
     "execution_count": 19,
     "metadata": {},
     "output_type": "execute_result"
    }
   ],
   "source": [
    "import socket\n",
    "sock = socket.socket()\n",
    "sock.bind(('', 0))\n",
    "sock.getsockname()[1]"
   ]
  },
  {
   "cell_type": "code",
   "execution_count": null,
   "id": "320ac97e-7ac2-4df9-9b9c-825d212116cd",
   "metadata": {},
   "outputs": [],
   "source": []
  },
  {
   "cell_type": "code",
   "execution_count": null,
   "id": "7ff55216-3fed-4fdc-a4c3-ab91451b4c61",
   "metadata": {},
   "outputs": [],
   "source": []
  }
 ],
 "metadata": {
  "kernelspec": {
   "display_name": "Python 3 (ipykernel)",
   "language": "python",
   "name": "python3"
  },
  "language_info": {
   "codemirror_mode": {
    "name": "ipython",
    "version": 3
   },
   "file_extension": ".py",
   "mimetype": "text/x-python",
   "name": "python",
   "nbconvert_exporter": "python",
   "pygments_lexer": "ipython3",
   "version": "3.9.18"
  }
 },
 "nbformat": 4,
 "nbformat_minor": 5
}
